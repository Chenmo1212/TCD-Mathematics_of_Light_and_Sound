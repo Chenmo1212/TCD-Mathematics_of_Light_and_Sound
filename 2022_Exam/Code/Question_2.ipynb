{
 "cells": [
  {
   "cell_type": "markdown",
   "id": "6920b33a",
   "metadata": {},
   "source": [
    "# Question Description"
   ]
  },
  {
   "cell_type": "markdown",
   "id": "5b9c6535",
   "metadata": {},
   "source": [
    "Write a program to plot the motion over time of some particles in a vibrating string. Use an iterative simulation algorithm with a discrete approximation of the wave equation."
   ]
  },
  {
   "cell_type": "markdown",
   "id": "3fba90f3",
   "metadata": {},
   "source": [
    "## Answer"
   ]
  },
  {
   "cell_type": "code",
   "execution_count": 8,
   "id": "3e4be24c",
   "metadata": {},
   "outputs": [],
   "source": [
    "# import the libs\n",
    "import time\n",
    "import numpy as np\n",
    "import matplotlib.pyplot as plt\n",
    "import matplotlib\n",
    "from matplotlib.animation import FuncAnimation\n",
    "%matplotlib inline"
   ]
  },
  {
   "cell_type": "code",
   "execution_count": 2,
   "id": "d8695353",
   "metadata": {},
   "outputs": [],
   "source": [
    "# init the plot attribution\n",
    "matplotlib.use('TkAgg', force=True)\n",
    "plt.rcParams[\"axes.linewidth\"] = 1\n",
    "plt.rcParams[\"lines.linewidth\"] = 3\n",
    "plt.rcParams[\"figure.figsize\"] = (10, 6)\n",
    "plt.rcParams[\"font.size\"] = 16"
   ]
  },
  {
   "cell_type": "code",
   "execution_count": 3,
   "id": "783573d5",
   "metadata": {},
   "outputs": [],
   "source": [
    "# Create a String class to simulate the wave\n",
    "class String():\n",
    "    def __init__(self, x, y0, c):\n",
    "        self.x, self.y, self.y0 = np.copy(x), self.pad_array(y0), self.pad_array(y0)\n",
    "        self.y_prev = np.copy(self.y0)\n",
    "        self.c = c\n",
    "\n",
    "    def pad_array(self, arr):\n",
    "        \"\"\"For the convenience of calculation, the original data is padding\"\"\"\n",
    "        return np.concatenate((arr[:1], arr, arr[-1:]))\n",
    "\n",
    "    def increment(self, dt):\n",
    "        \"\"\"Increment shape of string by dt\"\"\"\n",
    "        r = (self.c * dt / np.gradient(self.x)) ** 2\n",
    "        temp = np.copy(self.y)\n",
    "\n",
    "        # d2y / dt ^ 2 = c ^ 2 * (d2y / dx ^ 2)\n",
    "        self.y[1:-1] = 2 * self.y[1:-1] - self.y_prev[1:-1] + \\\n",
    "                       r * (self.y[2:] - 2 * self.y[1:-1] + self.y[:-2])\n",
    "        self.y_prev = temp\n",
    "\n",
    "        # Boundary condition\n",
    "        self.y[[0, 1, -2, -1]] = self.y0[[0, 1, -2, -1]]"
   ]
  },
  {
   "cell_type": "code",
   "execution_count": 4,
   "id": "31dd2b50",
   "metadata": {},
   "outputs": [],
   "source": [
    "# Set the initial position of string wave\n",
    "def set_initial_state():\n",
    "    y[np.where(x <= d0_loc * x[-1])] = d0 / (d0_loc * x[-1]) * \\\n",
    "                                       x[np.where(x <= d0_loc * x[-1])]\n",
    "    y[np.where(x > d0_loc * x[-1])] = -d0 / ((1.0 - d0_loc) * x[-1]) * \\\n",
    "                                      (x[np.where(x > d0_loc * x[-1])] - x[-1])"
   ]
  },
  {
   "cell_type": "code",
   "execution_count": 5,
   "id": "023d096f",
   "metadata": {},
   "outputs": [],
   "source": [
    "# init and update the animation of string wave\n",
    "def init():\n",
    "    return line, time_text\n",
    "\n",
    "\n",
    "def update(frame):\n",
    "    global t\n",
    "\n",
    "    # set the wave animation with time t\n",
    "    while t <= time.time():\n",
    "        string.increment(dt)\n",
    "        t += dt\n",
    "        time_text.set_text('t = %.1f s' % (t - t0))\n",
    "\n",
    "    line.set_ydata(string.y[1:-1])\n",
    "    return line, time_text"
   ]
  },
  {
   "cell_type": "code",
   "execution_count": 6,
   "id": "c55310a8",
   "metadata": {},
   "outputs": [],
   "source": [
    "# plot the plot at the specific time\n",
    "def plot_string_at_t(t_):\n",
    "    for i in range(t_ * 1000):\n",
    "        string.increment(dt)\n",
    "\n",
    "    ax.text(L * 0.5, d0 * 0.9, 't = {}s'.format(t_), fontsize=14, color='#2D70F0', alpha=0.8)\n",
    "    ax.plot(string.x, string.y[1: -1], color='#2D70F0', alpha=0.3)"
   ]
  },
  {
   "cell_type": "code",
   "execution_count": 9,
   "id": "beb43ade",
   "metadata": {
    "scrolled": false
   },
   "outputs": [
    {
     "data": {
      "image/png": "[encoded data removed]",
      "text/plain": [
       "<Figure size 432x288 with 1 Axes>"
      ]
     },
     "metadata": {
      "needs_background": "light"
     },
     "output_type": "display_data"
    }
   ],
   "source": [
    "if __name__ == '__main__':\n",
    "    L = 100  # length of String\n",
    "    c = 30  # wave speed\n",
    "\n",
    "    t0 = time.time()  # time of start\n",
    "    t = time.time()  # time of wave move\n",
    "    fps = 30\n",
    "\n",
    "    x = np.linspace(0, L, 128)\n",
    "    y = np.empty_like(x)\n",
    "\n",
    "    dt = 0.5 * ((x[-1] - x[0]) / len(x)) / c  # dt <= dx / c\n",
    "    d0 = 0.1  # initial displacement\n",
    "    d0_loc = 0.2  # initial position\n",
    "    set_initial_state()\n",
    "\n",
    "    string = String(x, y, c)\n",
    "\n",
    "    fig, ax = plt.subplots()\n",
    "    line, = ax.plot([], [])\n",
    "\n",
    "    # init time_text and add a line\n",
    "    time_text = ax.text(L * 0.8, d0 * 0.9, '')\n",
    "    ax.axhline(y=0, alpha=0.3, color=\"gray\", ls=\"-.\")\n",
    "\n",
    "    ax.set_ylim([-1.1 * d0, 1.1 * d0])\n",
    "    ax.set_xlim([x[0], x[-1]])\n",
    "    ax.set(xlabel=\"x\", ylabel=\"Displacement\")\n",
    "\n",
    "    # plot initial state\n",
    "    string.increment(dt)\n",
    "    ax.text(L * 0.3, d0 * 0.9, 'initial state', fontsize=14, color='#f0a732', alpha=0.8)\n",
    "    ax.plot(string.x, string.y[1: -1], color='#f0a732', alpha=0.3)\n",
    "\n",
    "    plt.title('Waves on a string')\n",
    "\n",
    "    # plot the string wave at the specific time\n",
    "    time_ = 5\n",
    "    plot_string_at_t(time_)\n",
    "    plt.savefig('Q2_Waves_on_a_string_at_{}'.format(time_))\n",
    "\n",
    "    # plot wave real-time\n",
    "    # ani = FuncAnimation(fig, update, init_func=init, frames=1000, interval=1000. / fps)\n",
    "    # ani.save('Simulation.gif', writer='pillow')\n",
    "\n",
    "    plt.show(block=True)  # in my laptop, i need to add block=True, but maybe u don't need this in your computer"
   ]
  }
 ],
 "metadata": {
  "kernelspec": {
   "display_name": "Python 3 (ipykernel)",
   "language": "python",
   "name": "python3"
  },
  "language_info": {
   "codemirror_mode": {
    "name": "ipython",
    "version": 3
   },
   "file_extension": ".py",
   "mimetype": "text/x-python",
   "name": "python",
   "nbconvert_exporter": "python",
   "pygments_lexer": "ipython3",
   "version": "3.10.1"
  }
 },
 "nbformat": 4,
 "nbformat_minor": 5
}
